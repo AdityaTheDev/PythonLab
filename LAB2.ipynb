{
 "cells": [
  {
   "cell_type": "code",
   "execution_count": 1,
   "id": "026074f6",
   "metadata": {},
   "outputs": [],
   "source": [
    "lang=[\"c++\",\"py\",\"java\",\"shift\",\"c\"]"
   ]
  },
  {
   "cell_type": "code",
   "execution_count": 2,
   "id": "9713f061",
   "metadata": {},
   "outputs": [],
   "source": [
    "ans=[]"
   ]
  },
  {
   "cell_type": "code",
   "execution_count": 3,
   "id": "43c04bad",
   "metadata": {},
   "outputs": [
    {
     "name": "stdout",
     "output_type": "stream",
     "text": [
      "['py', 'java', 'c']\n"
     ]
    }
   ],
   "source": [
    "for i in lang:\n",
    "    if(i!=\"shift\" and i!=\"c++\"):\n",
    "        ans.append(i)\n",
    "   \n",
    "print(ans)   "
   ]
  },
  {
   "cell_type": "code",
   "execution_count": 4,
   "id": "b63bedc2",
   "metadata": {},
   "outputs": [],
   "source": [
    "#printing the sum from 1 to 100"
   ]
  },
  {
   "cell_type": "code",
   "execution_count": 5,
   "id": "9f805a1c",
   "metadata": {},
   "outputs": [
    {
     "name": "stdout",
     "output_type": "stream",
     "text": [
      "5050\n"
     ]
    }
   ],
   "source": [
    "sum=0\n",
    "for i in range(1,101):\n",
    "    sum+=i\n",
    "print(sum)    "
   ]
  },
  {
   "cell_type": "code",
   "execution_count": 6,
   "id": "e56c17f7",
   "metadata": {},
   "outputs": [],
   "source": [
    "#reversing from n to 1"
   ]
  },
  {
   "cell_type": "code",
   "execution_count": 9,
   "id": "21366c14",
   "metadata": {},
   "outputs": [
    {
     "name": "stdout",
     "output_type": "stream",
     "text": [
      "enter a :5\n",
      "5 4 3 2 1 "
     ]
    }
   ],
   "source": [
    "a=int(input(\"enter a :\"))\n",
    "for i in range(a,0,-1):\n",
    "    print(i,end=' ')"
   ]
  },
  {
   "cell_type": "code",
   "execution_count": 10,
   "id": "b353a2e0",
   "metadata": {},
   "outputs": [],
   "source": [
    "#isprime"
   ]
  },
  {
   "cell_type": "code",
   "execution_count": 11,
   "id": "c1e4d948",
   "metadata": {},
   "outputs": [],
   "source": [
    "def isprime(n):\n",
    "    if(n==1):\n",
    "        return False\n",
    "    for i in range(2,n):\n",
    "        if(n%i==0):\n",
    "            return False\n",
    "    return True        "
   ]
  },
  {
   "cell_type": "code",
   "execution_count": 12,
   "id": "c8b9c93c",
   "metadata": {},
   "outputs": [
    {
     "name": "stdout",
     "output_type": "stream",
     "text": [
      "2\n",
      "3\n",
      "5\n",
      "7\n",
      "11\n",
      "13\n",
      "17\n",
      "19\n",
      "23\n",
      "29\n",
      "31\n",
      "37\n",
      "41\n",
      "43\n",
      "47\n",
      "53\n",
      "59\n",
      "61\n",
      "67\n",
      "71\n",
      "73\n",
      "79\n",
      "83\n",
      "89\n",
      "97\n"
     ]
    }
   ],
   "source": [
    "for i in range(1,101):\n",
    "    if(isprime(i)):\n",
    "        print(i)"
   ]
  },
  {
   "cell_type": "code",
   "execution_count": 24,
   "id": "c5697c2b",
   "metadata": {},
   "outputs": [
    {
     "name": "stdout",
     "output_type": "stream",
     "text": [
      "enter the number of row3\n",
      "enter the number of col3\n",
      "1\n",
      "2\n",
      "3\n",
      "4\n",
      "5\n",
      "6\n",
      "7\n",
      "8\n",
      "9\n",
      "original matrix:\n",
      "\n",
      "[1, 2, 3]\n",
      "[4, 5, 6]\n",
      "[7, 8, 9]\n",
      "\n",
      "\n",
      "90 degree tilted:\n",
      "\n",
      "[3, 6, 9]\n",
      "[2, 5, 8]\n",
      "[1, 4, 7]\n",
      "\n",
      "\n"
     ]
    }
   ],
   "source": [
    "mat=[]\n",
    "\n",
    "row=int(input(\"enter the number of row\"))\n",
    "col=int(input(\"enter the number of col\"))\n",
    "for i in range(0,row):\n",
    "    r=[]\n",
    "    for j in range(0,col):\n",
    "        r.append(int(input()))\n",
    "    mat.append(r)\n",
    "    \n",
    "print(\"original matrix:\\n\")\n",
    "for i in mat:\n",
    "    print(i)\n",
    "print(\"\\n\")\n",
    "\n",
    "for i in range(0,len(mat)):\n",
    "    for j in range(0,i):\n",
    "        mat[j][i],mat[i][j]=mat[i][j],mat[j][i]\n",
    "        \n",
    "        \n",
    "\n",
    "def rev(l):\n",
    "    s=0\n",
    "    e=len(l)-1\n",
    "    while(s<e):\n",
    "        l[s],l[e]=l[e],l[s]\n",
    "        s=s+1\n",
    "        e=e-1\n",
    "       \n",
    "rev(mat)\n",
    "\n",
    "print(\"90 degree tilted:\\n\")\n",
    "for i in mat:\n",
    "    print(i)\n",
    "print(\"\\n\")\n"
   ]
  },
  {
   "cell_type": "code",
   "execution_count": null,
   "id": "37e3d0a6",
   "metadata": {},
   "outputs": [],
   "source": [
    "#transpose"
   ]
  },
  {
   "cell_type": "code",
   "execution_count": null,
   "id": "a065d015",
   "metadata": {},
   "outputs": [],
   "source": [
    "for i in range(0,len(mat)):\n",
    "    for j in range(0,i):\n",
    "        mat[i][j],mat[j][i]=mat[j][i],mat[i][j]"
   ]
  },
  {
   "cell_type": "code",
   "execution_count": null,
   "id": "8e1f9c11",
   "metadata": {},
   "outputs": [],
   "source": [
    "mat"
   ]
  },
  {
   "cell_type": "code",
   "execution_count": null,
   "id": "636a030b",
   "metadata": {},
   "outputs": [],
   "source": [
    "#reverse function"
   ]
  },
  {
   "cell_type": "code",
   "execution_count": null,
   "id": "703207fe",
   "metadata": {},
   "outputs": [],
   "source": [
    "def rev(l):\n",
    "    s=0\n",
    "    e=len(l)-1\n",
    "    while(s<e):\n",
    "        l[s],l[e]=l[e],l[s]\n",
    "        s=s+1\n",
    "        e=e-1\n"
   ]
  },
  {
   "cell_type": "code",
   "execution_count": null,
   "id": "93e5a188",
   "metadata": {},
   "outputs": [],
   "source": [
    "for i in mat:\n",
    "    rev(i)\n",
    "        "
   ]
  },
  {
   "cell_type": "code",
   "execution_count": null,
   "id": "e49d3281",
   "metadata": {},
   "outputs": [],
   "source": [
    "mat"
   ]
  },
  {
   "cell_type": "code",
   "execution_count": null,
   "id": "afe6c017",
   "metadata": {},
   "outputs": [],
   "source": []
  }
 ],
 "metadata": {
  "kernelspec": {
   "display_name": "Python 3",
   "language": "python",
   "name": "python3"
  },
  "language_info": {
   "codemirror_mode": {
    "name": "ipython",
    "version": 3
   },
   "file_extension": ".py",
   "mimetype": "text/x-python",
   "name": "python",
   "nbconvert_exporter": "python",
   "pygments_lexer": "ipython3",
   "version": "3.8.8"
  }
 },
 "nbformat": 4,
 "nbformat_minor": 5
}
